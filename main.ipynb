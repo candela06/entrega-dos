{
 "cells": [
  {
   "cell_type": "markdown",
   "metadata": {},
   "source": [
    "importo la carpeta que tendrá los modulos principales\n"
   ]
  },
  {
   "cell_type": "code",
   "execution_count": 1,
   "metadata": {},
   "outputs": [],
   "source": [
    "import modules"
   ]
  },
  {
   "cell_type": "markdown",
   "metadata": {},
   "source": [
    "programa prinpicial con las listas iniciales\n"
   ]
  },
  {
   "cell_type": "code",
   "execution_count": 2,
   "metadata": {},
   "outputs": [
    {
     "name": "stdout",
     "output_type": "stream",
     "text": [
      "Agustin, Yanina, Andrés, Ariadna, Bautista, CAROLINA, CESAR, David, Diego, Dolores, DYLAN, ELIANA, Emanuel, Fabián, Noelia, Francsica', FEDERICO, Fernanda, GONZALO, Nancy \n",
      "['Agustin', 'Yanina', 'Andrés', 'Ariadna', 'Bautista', 'CAROLINA', 'CESAR', 'David', 'Diego', 'Dolores', 'DYLAN', 'ELIANA', 'Emanuel', 'Fabián', 'Noelia', \"Francsica'\", 'FEDERICO', 'Fernanda', 'GONZALO', 'Nancy ']\n"
     ]
    }
   ],
   "source": [
    "names = \"\"\"Agustin, Yanina, Andrés, Ariadna, Bautista, CAROLINA, CESAR, David, Diego, Dolores, DYLAN, ELIANA, Emanuel, Fabián, Noelia, Francsica', FEDERICO, Fernanda, GONZALO, Nancy \"\"\"\n",
    "goals_scored = [0, 10, 4, 0, 5, 14, 0, 0, 7, 2, 1, 1, 1, 5, 6, 1, 1, 2, 0, 11]\n",
    "avoided = [0, 2, 0, 0, 5, 2, 0, 0, 1, 2, 0, 5, 5, 0, 1, 0, 2, 3, 0, 0]\n",
    "assists = [0, 5, 1, 0, 5, 2, 0, 0, 1, 2, 1, 5, 5, 0, 1, 0, 2, 3, 1, 0]\n",
    "\n",
    "lista_jugadores=names.split(', ')\n",
    "print(names)\n",
    "print(lista_jugadores)"
   ]
  },
  {
   "cell_type": "markdown",
   "metadata": {},
   "source": [
    "Generar una estructura todas las estadísticas asociadas a cada jugador ojugadora"
   ]
  },
  {
   "cell_type": "code",
   "execution_count": 3,
   "metadata": {},
   "outputs": [
    {
     "name": "stdout",
     "output_type": "stream",
     "text": [
      "{'Agustin': (0, 0, 0), 'Yanina': (10, 2, 5), 'Andrés': (4, 0, 1), 'Ariadna': (0, 0, 0), 'Bautista': (5, 5, 5), 'CAROLINA': (14, 2, 2), 'CESAR': (0, 0, 0), 'David': (0, 0, 0), 'Diego': (7, 1, 1), 'Dolores': (2, 2, 2), 'DYLAN': (1, 0, 1), 'ELIANA': (1, 5, 5), 'Emanuel': (1, 5, 5), 'Fabián': (5, 0, 0), 'Noelia': (6, 1, 1), \"Francsica'\": (1, 0, 0), 'FEDERICO': (1, 2, 2), 'Fernanda': (2, 3, 3), 'GONZALO': (0, 0, 1), 'Nancy ': (11, 0, 0)}\n"
     ]
    }
   ],
   "source": [
    "dir_jugadores = modules.dir_estadisticas(lista_jugadores,goals_scored,avoided,assists)\n",
    "\n",
    "print(dir_jugadores)\n"
   ]
  },
  {
   "cell_type": "code",
   "execution_count": 4,
   "metadata": {},
   "outputs": [
    {
     "name": "stdout",
     "output_type": "stream",
     "text": [
      "dict_items([('Agustin', (0, 0, 0)), ('Yanina', (10, 2, 5)), ('Andrés', (4, 0, 1)), ('Ariadna', (0, 0, 0)), ('Bautista', (5, 5, 5)), ('CAROLINA', (14, 2, 2)), ('CESAR', (0, 0, 0)), ('David', (0, 0, 0)), ('Diego', (7, 1, 1)), ('Dolores', (2, 2, 2)), ('DYLAN', (1, 0, 1)), ('ELIANA', (1, 5, 5)), ('Emanuel', (1, 5, 5)), ('Fabián', (5, 0, 0)), ('Noelia', (6, 1, 1)), (\"Francsica'\", (1, 0, 0)), ('FEDERICO', (1, 2, 2)), ('Fernanda', (2, 3, 3)), ('GONZALO', (0, 0, 1)), ('Nancy ', (11, 0, 0))])\n"
     ]
    }
   ],
   "source": [
    "print(dir_jugadores.items())"
   ]
  },
  {
   "cell_type": "markdown",
   "metadata": {},
   "source": [
    "con max_goleadores() consigo al goleador y cuántos goles hizo."
   ]
  },
  {
   "cell_type": "code",
   "execution_count": 5,
   "metadata": {},
   "outputs": [
    {
     "name": "stdout",
     "output_type": "stream",
     "text": [
      "CAROLINA es el goleador con 14 goles\n"
     ]
    }
   ],
   "source": [
    "goals_max,top_scorer = modules.max_goleadores(dir_jugadores)\n",
    "print(f'{top_scorer} es el goleador con {goals_max} goles')"
   ]
  },
  {
   "cell_type": "markdown",
   "metadata": {},
   "source": [
    "obtengo al jugador más influyente y sus puntos"
   ]
  },
  {
   "cell_type": "code",
   "execution_count": 6,
   "metadata": {},
   "outputs": [],
   "source": [
    "puntos,jugador_influyente= modules.jugador_influyente(dir_jugadores)"
   ]
  },
  {
   "cell_type": "markdown",
   "metadata": {},
   "source": [
    "Promedio de goles totales y del goleador."
   ]
  },
  {
   "cell_type": "code",
   "execution_count": 7,
   "metadata": {},
   "outputs": [
    {
     "name": "stdout",
     "output_type": "stream",
     "text": [
      "promedio de goles: 23.666666666666668\n",
      "CAROLINA obtuvo un promedio de goles de 0.56\n"
     ]
    }
   ],
   "source": [
    "print(f'promedio de goles: {modules.goal_average(goals_scored)}')\n",
    "print(f'{top_scorer} obtuvo un promedio de goles de {modules.top_scorer_average(goals_max)}')"
   ]
  }
 ],
 "metadata": {
  "kernelspec": {
   "display_name": "Python 3",
   "language": "python",
   "name": "python3"
  },
  "language_info": {
   "codemirror_mode": {
    "name": "ipython",
    "version": 3
   },
   "file_extension": ".py",
   "mimetype": "text/x-python",
   "name": "python",
   "nbconvert_exporter": "python",
   "pygments_lexer": "ipython3",
   "version": "3.11.7"
  }
 },
 "nbformat": 4,
 "nbformat_minor": 2
}
